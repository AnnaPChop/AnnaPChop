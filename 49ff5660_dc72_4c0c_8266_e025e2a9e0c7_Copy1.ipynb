{
  "cells": [
    {
      "cell_type": "markdown",
      "metadata": {
        "id": "view-in-github",
        "colab_type": "text"
      },
      "source": [
        "<a href=\"https://colab.research.google.com/github/AnnaPChop/AnnaPChop/blob/main/49ff5660_dc72_4c0c_8266_e025e2a9e0c7_Copy1.ipynb\" target=\"_parent\"><img src=\"https://colab.research.google.com/assets/colab-badge.svg\" alt=\"Open In Colab\"/></a>"
      ]
    },
    {
      "cell_type": "markdown",
      "metadata": {
        "id": "k66JgwHUADK7"
      },
      "source": [
        "Hola Anna!\n",
        "\n",
        "Soy **Patricio Requena** 👋. Es un placer ser el revisor de tu proyecto el día de hoy!\n",
        "\n",
        "Revisaré tu proyecto detenidamente con el objetivo de ayudarte a mejorar y perfeccionar tus habilidades. Durante mi revisión, identificaré áreas donde puedas hacer mejoras en tu código, señalando específicamente qué y cómo podrías ajustar para optimizar el rendimiento y la claridad de tu proyecto. Además, es importante para mí destacar los aspectos que has manejado excepcionalmente bien. Reconocer tus fortalezas te ayudará a entender qué técnicas y métodos están funcionando a tu favor y cómo puedes aplicarlos en futuras tareas.\n",
        "\n",
        "_**Recuerda que al final de este notebook encontrarás un comentario general de mi parte**_, empecemos!\n",
        "\n",
        "Encontrarás mis comentarios dentro de cajas verdes, amarillas o rojas, ⚠️ **por favor, no muevas, modifiques o borres mis comentarios** ⚠️:\n",
        "\n",
        "\n",
        "<div class=\"alert alert-block alert-success\">\n",
        "<b>Comentario del revisor</b> <a class=“tocSkip”></a>\n",
        "Si todo está perfecto.\n",
        "</div>\n",
        "\n",
        "<div class=\"alert alert-block alert-warning\">\n",
        "<b>Comentario del revisor</b> <a class=“tocSkip”></a>\n",
        "Si tu código está bien pero se puede mejorar o hay algún detalle que le hace falta.\n",
        "</div>\n",
        "\n",
        "<div class=\"alert alert-block alert-danger\">\n",
        "<b>Comentario del revisor</b> <a class=“tocSkip”></a>\n",
        "Si de pronto hace falta algo o existe algún problema con tu código o conclusiones.\n",
        "</div>\n",
        "\n",
        "Puedes responderme de esta forma:\n",
        "<div class=\"alert alert-block alert-info\">\n",
        "<b>Respuesta del estudiante</b> <a class=“tocSkip”></a>\n",
        "</div>"
      ]
    },
    {
      "cell_type": "markdown",
      "metadata": {
        "id": "jrvwNQJi0P9l"
      },
      "source": [
        "Una empresa de comercio electrónico, Store 1, recientemente comenzó a recopilar datos sobre sus clientes. El objetivo final de Store 1 es comprender mejor el comportamiento de sus clientes y tomar decisiones basadas en datos para mejorar su experiencia online.\n",
        "\n",
        "Como parte del equipo de análisis, tu primera tarea es evaluar la calidad de una muestra de datos recopilados y prepararla para futuros análisis."
      ]
    },
    {
      "cell_type": "markdown",
      "metadata": {
        "id": "2utuFkVZ0P9p"
      },
      "source": [
        "# Cuestionario\n",
        "\n",
        "Store 1 tiene como objetivo garantizar la coherencia en la recopilación de datos. Como parte de esta iniciativa, se debe evaluar la calidad de los datos recopilados sobre los usuarios y las usuarias. Te han pedido que revises los datos recopilados y propongas cambios. A continuación verás datos sobre un usuario o una usuaria en particular; revisa los datos e identifica cualquier posible problema."
      ]
    },
    {
      "cell_type": "code",
      "execution_count": null,
      "metadata": {
        "id": "v4ldWAes0P9q"
      },
      "outputs": [],
      "source": [
        "user_id = '32415'\n",
        "user_name = ' mike_reed '\n",
        "user_age = 32.0\n",
        "fav_categories = ['ELECTRONICS', 'SPORT', 'BOOKS']"
      ]
    },
    {
      "cell_type": "markdown",
      "metadata": {
        "id": "v5J9NgXf0P9r"
      },
      "source": [
        "**Opciones:**\n",
        "\n",
        "1. El tipo de datos para `user_id` debe cambiarse de una cadena a un número entero.\n",
        "    \n",
        "2. La variable `user_name` contiene una cadena que tiene espacios innecesarios y un guion bajo entre el nombre y el apellido.\n",
        "    \n",
        "3. El tipo de datos de `user_age` es incorrecto.\n",
        "    \n",
        "4. La lista `fav_categories` contiene cadenas en mayúsculas. En su lugar, deberíamos convertir los valores de la lista a minúsculas."
      ]
    },
    {
      "cell_type": "markdown",
      "metadata": {
        "id": "dZRSLSQV0P9s"
      },
      "source": [
        "Escribe en la celda Markdown a continuación el número de las opciones que has identificado como problemas. Si has identificado varios problemas, sepáralos con comas. Por ejemplo, si piensas que los números 1 y 3 son incorrectos, escribe 1, 3."
      ]
    },
    {
      "cell_type": "markdown",
      "metadata": {
        "id": "iCEVoi_A0P9s"
      },
      "source": [
        "**Escribe tu respuesta y explica tu argumentación:**\n",
        "# Argumentación:\n",
        "Las opciones que elijo son la 2,4.\n",
        "**Opción 2**: La variable \"user_name\" contiene un string que tiene espacios innecesarios al inicio y al final, además tiene un guion bajo entre el nombre y el apellido que, dependiendo de la nomenclatura de la base, pudiera dejarse o cambiarse por un espacio.\n",
        "**Opción 4**: La lista \"fav_categories\" contiene cadenas en mayúsculas. Para asegurar la coherencia y facilitar la manipulación y comparación de datos, es mejor convertir los valores de la lista a minúsculas. Esto puede ayudar en tareas de análisis de datos y búsquedas, donde la sensibilidad a mayúsculas y minúsculas puede causar discrepancias en Python."
      ]
    },
    {
      "cell_type": "markdown",
      "metadata": {
        "id": "qKAtWDqu0P9t"
      },
      "source": [
        "# Ejercicio 1\n",
        "\n",
        "Vamos a implementar los cambios que identificamos. Primero, necesitamos corregir los problemas de la variable `user_name`. Como vimos, tiene espacios innecesarios y un guion bajo como separador entre el nombre y el apellido; tu objetivo es eliminar los espacios y luego reemplazar el guion bajo con el espacio."
      ]
    },
    {
      "cell_type": "code",
      "execution_count": null,
      "metadata": {
        "id": "442z87Uq0P9t",
        "outputId": "0b605283-f59f-46a8-f660-489e377a08b7"
      },
      "outputs": [
        {
          "name": "stdout",
          "output_type": "stream",
          "text": [
            "mike reed\n"
          ]
        }
      ],
      "source": [
        "user_name = ' mike_reed '\n",
        "user_name = user_name.strip() # eliminar los espacios en la cadena original\n",
        "user_name = user_name.replace(\"_\",\" \") # reemplazar el guion bajo con el espacio\n",
        "\n",
        "print(user_name)"
      ]
    },
    {
      "cell_type": "markdown",
      "metadata": {
        "id": "9PV3JXkGADK_"
      },
      "source": [
        "<div class=\"alert alert-block alert-success\">\n",
        "<b>Comentario del revisor (1ra Iteracion)</b> <a class=“tocSkip”></a>\n",
        "\n",
        "Buen trabajo! Adicional si quisieras pasar las primeras letras a mayúscula podrías agregar el uso de `.title()` al resultado obtenido en tu variable `user_name`\n",
        "</div>"
      ]
    },
    {
      "cell_type": "markdown",
      "metadata": {
        "id": "g4YyN4WK0P9t"
      },
      "source": [
        "# Ejercicio 2\n",
        "\n",
        "Luego, debemos dividir el `user_name` (nombre de usuario o usuaria) actualizado en dos subcadenas para obtener una lista que contenga dos valores: la cadena para el nombre y la cadena para el apellido."
      ]
    },
    {
      "cell_type": "code",
      "execution_count": null,
      "metadata": {
        "id": "Q1L1ARfY0P9u",
        "outputId": "86ceefb0-9986-49fd-f035-a19cf4a0cd1e"
      },
      "outputs": [
        {
          "name": "stdout",
          "output_type": "stream",
          "text": [
            "['mike', 'reed']\n"
          ]
        }
      ],
      "source": [
        "user_name = 'mike reed'\n",
        "name_split = user_name.split() # divide aquí el string user_name\n",
        "\n",
        "print(name_split)"
      ]
    },
    {
      "cell_type": "markdown",
      "metadata": {
        "id": "GzxVBeCoADLA"
      },
      "source": [
        "<div class=\"alert alert-block alert-success\">\n",
        "<b>Comentario del revisor (1ra Iteracion)</b> <a class=“tocSkip”></a>\n",
        "\n",
        "Buen trabajo con la división del string\n",
        "</div>"
      ]
    },
    {
      "cell_type": "markdown",
      "metadata": {
        "id": "-VWZkZtc0P9u"
      },
      "source": [
        "# Ejercicio 3\n",
        "\n",
        "¡Genial! Ahora debemos trabajar con la variable `user_age`. Como ya mencionamos, esta tiene un tipo de datos incorrecto. Arreglemos este problema transformando el tipo de datos y mostrando el resultado final."
      ]
    },
    {
      "cell_type": "code",
      "execution_count": null,
      "metadata": {
        "id": "WPpidP470P9u",
        "outputId": "c18533ea-8faa-4e75-a090-c6e08c712450"
      },
      "outputs": [
        {
          "name": "stdout",
          "output_type": "stream",
          "text": [
            "32\n"
          ]
        }
      ],
      "source": [
        "user_age = 32.0\n",
        "user_age = int(user_age) # cambia el tipo de datos para la edad de un usuario o usuaria\n",
        "\n",
        "print(user_age)"
      ]
    },
    {
      "cell_type": "markdown",
      "metadata": {
        "id": "ehoGKBkdADLA"
      },
      "source": [
        "<div class=\"alert alert-block alert-success\">\n",
        "<b>Comentario del revisor (1ra Iteracion)</b> <a class=“tocSkip”></a>\n",
        "\n",
        "Buen trabajo! Cambiar los tipos de dato en casos cómo este ayudará a tener análisis más acertados\n",
        "</div>"
      ]
    },
    {
      "cell_type": "markdown",
      "metadata": {
        "id": "xdfgaKd60P9v"
      },
      "source": [
        "# Ejercicio 4\n",
        "\n",
        "Como sabemos, los datos no siempre son perfectos. Debemos considerar escenarios en los que el valor de `user_age` no se pueda convertir en un número entero. Para evitar que nuestro sistema se bloquee, debemos tomar medidas con anticipación.\n",
        "\n",
        "Escribe un código que intente convertir la variable `user_age` en un número entero y asigna el valor transformado a `user_age_int`. Si el intento falla, mostramos un mensaje pidiendo al usuario o la usuaria que proporcione su edad como un valor numérico con el mensaje: `Please provide your age as a numerical value.` (Proporcione su edad como un valor numérico.)"
      ]
    },
    {
      "cell_type": "code",
      "execution_count": null,
      "metadata": {
        "id": "duI5zn_O0P9v",
        "scrolled": true,
        "outputId": "7197b969-7673-47ce-9f7c-7e81b660bc0c"
      },
      "outputs": [
        {
          "name": "stdout",
          "output_type": "stream",
          "text": [
            "Please provide your age as a numerical value\n"
          ]
        }
      ],
      "source": [
        "user_age = 'treinta y dos' # aquí está la variable que almacena la edad como un string.\n",
        "\n",
        "# escribe un código que intente transformar user_age en un entero y si falla, imprime el mensaje especificado\n",
        "try:\n",
        "    user_age_int = int(user_age) #Intenta transformar user_age en un entero.\n",
        "    print(user_age_int)\n",
        "except ValueError:\n",
        "    print(\"Please provide your age as a numerical value\") #Imprime esta respuesta si falla la transformación"
      ]
    },
    {
      "cell_type": "markdown",
      "metadata": {
        "id": "je2DQ4B8ADLA"
      },
      "source": [
        "<div class=\"alert alert-block alert-success\">\n",
        "<b>Comentario del revisor (1ra Iteracion)</b> <a class=“tocSkip”></a>\n",
        "\n",
        "Excelente! Manejar los errores en tú código es una buena práctica y el mostrar el mensaje indicando porque sucedió el error hace que sea más fácil la corrección\n",
        "</div>"
      ]
    },
    {
      "cell_type": "markdown",
      "metadata": {
        "id": "Q04i6KQH0P9v"
      },
      "source": [
        "# Ejercicio 5\n",
        "\n",
        "Finalmente, considera que todas las categorías favoritas se almacenan en mayúsculas. Para llenar una nueva lista llamada `fav_categories_low` con las mismas categorías, pero en minúsculas, itera los valores en la lista `fav_categories`, modifícalos y agrega los nuevos valores a la lista `fav_categories_low`. Como siempre, muestra el resultado final."
      ]
    },
    {
      "cell_type": "code",
      "execution_count": null,
      "metadata": {
        "id": "AtQg6ie10P9v",
        "outputId": "5bddbab6-6c0c-46bf-9224-c48e17d287cd"
      },
      "outputs": [
        {
          "name": "stdout",
          "output_type": "stream",
          "text": [
            "['electronics', 'sport', 'books']\n"
          ]
        }
      ],
      "source": [
        "fav_categories = ['ELECTRONICS', 'SPORT', 'BOOKS']\n",
        "fav_categories_low = []\n",
        "\n",
        "# escribe tu código aquí\n",
        "for category in fav_categories: #Usamos un bucle for\n",
        "    fav_categories_low.append(category.lower()) #usamos lower() para volver minúsculas las letras\n",
        "\n",
        "# no elimines la siguiente declaración print\n",
        "print(fav_categories_low)"
      ]
    },
    {
      "cell_type": "markdown",
      "metadata": {
        "id": "w8J0RSee0P9w"
      },
      "source": [
        "# Ejercicio 6\n",
        "\n",
        "Hemos obtenido información adicional sobre los hábitos de gasto de nuestros usuarios y usuarias, incluido el importe gastado en cada una de sus categorías favoritas. La gerencia está interesada en las siguientes métricas:\n",
        "\n",
        "- Importe total gastado por el usuario o la usuaria.\n",
        "- Importe mínimo gastado.\n",
        "- Importe máximo gastado.\n",
        "\n",
        "Vamos a calcular estos valores y mostrarlos en la pantalla:"
      ]
    },
    {
      "cell_type": "code",
      "execution_count": null,
      "metadata": {
        "id": "BbhBAmcZ0P9w",
        "outputId": "a70d5c99-f542-408b-81e8-e16352d8d4b4"
      },
      "outputs": [
        {
          "name": "stdout",
          "output_type": "stream",
          "text": [
            "1280\n",
            "894\n",
            "173\n"
          ]
        }
      ],
      "source": [
        "fav_categories_low = ['electronics', 'sport', 'books']\n",
        "spendings_per_category = [894, 213, 173]\n",
        "\n",
        "total_amount = sum(spendings_per_category) # calculamos la suma\n",
        "max_amount = max(spendings_per_category) # calculamos el máximo\n",
        "min_amount = min(spendings_per_category) # calculamos el mínimo\n",
        "\n",
        "# no elimines la siguiente declaración print\n",
        "print(total_amount)\n",
        "print(max_amount)\n",
        "print(min_amount)"
      ]
    },
    {
      "cell_type": "markdown",
      "metadata": {
        "id": "WYdMbE6EADLB"
      },
      "source": [
        "<div class=\"alert alert-block alert-success\">\n",
        "<b>Comentario del revisor (1ra Iteracion)</b> <a class=“tocSkip”></a>\n",
        "\n",
        "Buen trabajo! Obtuviste los resultados esperados aplicando el bucle y las funciones correctas\n",
        "</div>"
      ]
    },
    {
      "cell_type": "markdown",
      "metadata": {
        "id": "hyPGzOt60P9w"
      },
      "source": [
        "# Ejercicio 7\n",
        "\n",
        "La empresa quiere ofrecer descuentos a sus clientes leales. Los clientes y las clientas que realizan compras por un importe total mayor a $1500 se consideran leales y recibirán un descuento.\n",
        "\n",
        "Nuestro objetivo es crear un bucle `while` que compruebe el importe total gastado y se detenga al alcanzarlo. Para simular nuevas compras, la variable `new_purchase` genera un número entre 30 y 80 en cada iteración del bucle. Esto representa el importe de dinero gastado en una nueva compra y es lo que hay que sumar al total.\n",
        "\n",
        "Una vez que se alcance el importe objetivo y se termine el bucle `while`, se mostrará la cantidad final."
      ]
    },
    {
      "cell_type": "code",
      "execution_count": null,
      "metadata": {
        "id": "FmpTfK7C0P9x",
        "scrolled": true,
        "outputId": "7561f0c2-24da-4488-8a1e-9fb2de7ed369"
      },
      "outputs": [
        {
          "name": "stdout",
          "output_type": "stream",
          "text": [
            "1508\n"
          ]
        }
      ],
      "source": [
        "from random import randint\n",
        "\n",
        "total_amount_spent = 1280\n",
        "target_amount = 1500\n",
        "\n",
        "while total_amount_spent < target_amount: # colocamos el condicional\n",
        "\tnew_purchase = randint(30, 80) # generamos un número aleatorio de 30 a 80\n",
        "\ttotal_amount_spent += new_purchase # Sumamos el importe de la nueva compra al total que ya teníamos\n",
        "\n",
        "print(total_amount_spent)"
      ]
    },
    {
      "cell_type": "markdown",
      "metadata": {
        "id": "i-xGyet1ADLB"
      },
      "source": [
        "<div class=\"alert alert-block alert-success\">\n",
        "<b>Comentario del revisor (1ra Iteracion)</b> <a class=“tocSkip”></a>\n",
        "\n",
        "Buen trabajo con la condición y el código en el bucle! Practicar el cómo aplicar estas condiciones mejorarán tu lógica\n",
        "</div>"
      ]
    },
    {
      "cell_type": "markdown",
      "metadata": {
        "id": "e9j2dOo60P9x"
      },
      "source": [
        "# Ejercicio 8\n",
        "\n",
        "Ahora tenemos toda la información sobre un cliente o una clienta de la forma que queremos que sea. La gerencia de una empresa nos pidió proponer una forma de resumir toda la información sobre un usuario o una usuaria. Tu objetivo es crear una cadena formateada que utilice información de las variables `user_id`, `user_name` y `user_age`.\n",
        "\n",
        "Esta es la cadena final que queremos crear: `User 32415 is mike who is 32 years old.` (El usuario 32415 es Mike, quien tiene 32 años)."
      ]
    },
    {
      "cell_type": "code",
      "execution_count": null,
      "metadata": {
        "id": "2dzhjYbm0P9x",
        "outputId": "e8b4f429-ca79-41b1-f127-3d3de194c139"
      },
      "outputs": [
        {
          "name": "stdout",
          "output_type": "stream",
          "text": [
            "User 32415 is mike who is 32 years old\n",
            "['32415', ['mike', 'reed'], 32, ['electronics', 'sport', 'books'], [894, 213, 173]]\n",
            "['31980', ['kate', 'morgan'], 24, ['clothes', 'shoes'], [439, 390]]\n"
          ]
        }
      ],
      "source": [
        "user_id = '32415'\n",
        "user_name = ['mike', 'reed']\n",
        "user_age = 32\n",
        "\n",
        "user_info = f\"User {user_id} is {user_name[0]} who is {user_age} years old\" # formateamos con F string\n",
        "\n",
        "# no elimines la siguiente declaración print\n",
        "print(user_info)\n",
        "\n",
        "# Hacemos ahora la lista anidada que usaremos para generar la tabla de usuarios, basándonos en la tabla que nos dieron al calce\n",
        "\n",
        "users = [\n",
        "    ['32415', ['mike', 'reed'], 32, ['electronics', 'sport', 'books'], [894, 213, 173]],\n",
        "    ['31980', ['kate', 'morgan'], 24, ['clothes', 'shoes'], [439, 390]]\n",
        "]\n",
        "\n",
        "# Imprimimos la tabla\n",
        "\n",
        "for user in users:\n",
        "    print(user)\n",
        "\n"
      ]
    },
    {
      "cell_type": "markdown",
      "metadata": {
        "id": "no9g77VuADLC"
      },
      "source": [
        "<div class=\"alert alert-block alert-success\">\n",
        "<b>Comentario del revisor (1ra Iteracion)</b> <a class=“tocSkip”></a>\n",
        "\n",
        "Bien hecho! El mostrar strings formateados ayuda a tener más claridad de los resultados que estás mostrando\n",
        "</div>"
      ]
    },
    {
      "cell_type": "markdown",
      "metadata": {
        "id": "hJ38hJYU0P9x"
      },
      "source": [
        "Como sabes, las empresas recopilan y almacenan datos de una forma particular. Store 1 desea almacenar toda la información sobre sus clientes y clientas en una tabla.\n",
        "\n",
        "| user_id | user_name | user_age | purchase_category | spending_per_category |\n",
        "| --- | --- | --- | --- | --- |\n",
        "| '32415' | 'mike', 'reed' | 32 | 'electronics', 'sport', 'books' | 894, 213, 173 |\n",
        "| '31980' | 'kate', 'morgan' | 24 | 'clothes', 'shoes' | 439, 390 |\n",
        "\n",
        "En términos técnicos, una tabla es simplemente una lista anidada que contiene una sublista para cada usuario o usuaria.\n",
        "\n",
        "Store 1 ha creado una tabla de este tipo para sus usuarios y usuarias. Se almacena en la variable `users`. Cada sublista contiene el ID del usuario o la usuaria, nombre y apellido, edad, categorías favoritas y el importe gastado en cada categoría."
      ]
    },
    {
      "cell_type": "markdown",
      "metadata": {
        "id": "J7IXD3Zv0P9x"
      },
      "source": [
        "# Ejercicio 9\n",
        "\n",
        "Para calcular los ingresos de la empresa, sigue estos pasos.\n",
        "\n",
        "1. Utiliza `for` para iterar sobre la lista `users`.\n",
        "2. Extrae la lista de gastos de cada usuario o usuaria y suma los valores.\n",
        "3. Actualiza el valor de los ingresos con el total de cada usuario o usuaria.\n",
        "\n",
        "Así obtendrás los ingresos totales de la empresa que mostrarás en la pantalla al final."
      ]
    },
    {
      "cell_type": "code",
      "execution_count": null,
      "metadata": {
        "id": "d8jeNWXQ0P9y",
        "outputId": "cc9a18e4-ea5a-40c5-96c4-7ea6487a92b3"
      },
      "outputs": [
        {
          "name": "stdout",
          "output_type": "stream",
          "text": [
            "2109\n"
          ]
        }
      ],
      "source": [
        "users = [\n",
        "\t  # este es el inicio de la primera sublista\n",
        "    ['32415', ['mike', 'reed'], 32, ['electronics', 'sport', 'books'],\n",
        "        [894, 213, 173]\n",
        "    ], # este es el final de la primera sublista\n",
        "\n",
        "    # este es el inicio de la segunda sublista\n",
        "    ['31980', ['kate', 'morgan'], 24, ['clothes', 'shoes'],\n",
        "        [439, 390]\n",
        "    ] # este es el final de la segunda sublista\n",
        "]\n",
        "\n",
        "revenue = 0\n",
        "\n",
        "for user in users:\n",
        "\tspendings_list = user[4]  # extrae la lista de gastos de cada usuario o usuaria y suma los valores\n",
        "\ttotal_spendings = sum(spendings_list) # suma los gastos de todas las categorías para obtener el total de un usuario o una usuaria en particular\n",
        "\trevenue += total_spendings # actualiza los ingresos\n",
        "\n",
        "# no elimines la siguiente declaración print\n",
        "print(revenue)"
      ]
    },
    {
      "cell_type": "markdown",
      "metadata": {
        "id": "Py6_SGW9ADLD"
      },
      "source": [
        "<div class=\"alert alert-block alert-success\">\n",
        "<b>Comentario del revisor (1ra Iteracion)</b> <a class=“tocSkip”></a>\n",
        "\n",
        "Lo hiciste muy bien, el acceso a los gastos de la lista es correcto. Poder acceder a las listas por su índice es un paso importante de comprender para tus próximos proyectos\n",
        "</div>"
      ]
    },
    {
      "cell_type": "markdown",
      "metadata": {
        "id": "wR0om7Tk0P9y"
      },
      "source": [
        "# Ejercicio 10\n",
        "\n",
        "Recorre la lista de usuarios y usuarias que te hemos proporcionado y muestra los nombres de la clientela menor de 30 años."
      ]
    },
    {
      "cell_type": "code",
      "execution_count": null,
      "metadata": {
        "id": "KVdthJm70P9y",
        "outputId": "061f0ad1-b4a6-470a-c828-ee5ab50d3271"
      },
      "outputs": [
        {
          "name": "stdout",
          "output_type": "stream",
          "text": [
            "kate morgan\n",
            "samantha smith\n",
            "emily brown\n",
            "jose martinez\n",
            "james lee\n"
          ]
        }
      ],
      "source": [
        "users = [\n",
        "    ['32415', ['mike', 'reed'], 32, ['electronics', 'sport', 'books'],\n",
        "     [894, 213, 173]],\n",
        "    ['31980', ['kate', 'morgan'], 24, ['clothes', 'books'], [439,\n",
        "     390]],\n",
        "    ['32156', ['john', 'doe'], 37, ['electronics', 'home', 'food'],\n",
        "     [459, 120, 99]],\n",
        "    ['32761', ['samantha', 'smith'], 29, ['clothes', 'electronics',\n",
        "     'beauty'], [299, 679, 85]],\n",
        "    ['32984', ['david', 'white'], 41, ['books', 'home', 'sport'], [234,\n",
        "     329, 243]],\n",
        "    ['33001', ['emily', 'brown'], 26, ['beauty', 'home', 'food'], [213,\n",
        "     659, 79]],\n",
        "    ['33767', ['maria', 'garcia'], 33, ['clothes', 'food', 'beauty'],\n",
        "     [499, 189, 63]],\n",
        "    ['33912', ['jose', 'martinez'], 22, ['sport', 'electronics', 'home'\n",
        "     ], [259, 549, 109]],\n",
        "    ['34009', ['lisa', 'wilson'], 35, ['home', 'books', 'clothes'],\n",
        "     [329, 189, 329]],\n",
        "    ['34278', ['james', 'lee'], 28, ['beauty', 'clothes', 'electronics'\n",
        "     ], [189, 299, 579]],\n",
        "    ]\n",
        "\n",
        " # escribe tu código aquí\n",
        "for user in users:\n",
        "    user_age = user[2]\n",
        "    if user_age < 30:\n",
        "        user_name = \" \".join(user[1])\n",
        "        print(user_name)\n",
        ""
      ]
    },
    {
      "cell_type": "markdown",
      "metadata": {
        "id": "LBHWQenm0P9y"
      },
      "source": [
        "# Ejercicio 11\n",
        "\n",
        "Juntemos las tareas 9 y 10 e imprimamos los nombres de los usuarios y las usuarias que tengan menos de 30 años y un gasto total superior a 1000 dólares."
      ]
    },
    {
      "cell_type": "code",
      "execution_count": null,
      "metadata": {
        "id": "HaQNXS-V0P9z",
        "outputId": "17379c82-2cdd-4dba-fce7-fb8792d172e4"
      },
      "outputs": [
        {
          "name": "stdout",
          "output_type": "stream",
          "text": [
            "samantha smith\n",
            "james lee\n"
          ]
        }
      ],
      "source": [
        "users = [\n",
        "    ['32415', ['mike', 'reed'], 32, ['electronics', 'sport', 'books'],\n",
        "     [894, 213, 173]],\n",
        "    ['31980', ['kate', 'morgan'], 24, ['clothes', 'books'], [439,\n",
        "     390]],\n",
        "    ['32156', ['john', 'doe'], 37, ['electronics', 'home', 'food'],\n",
        "     [459, 120, 99]],\n",
        "    ['32761', ['samantha', 'smith'], 29, ['clothes', 'electronics',\n",
        "     'beauty'], [299, 679, 85]],\n",
        "    ['32984', ['david', 'white'], 41, ['books', 'home', 'sport'], [234,\n",
        "     329, 243]],\n",
        "    ['33001', ['emily', 'brown'], 26, ['beauty', 'home', 'food'], [213,\n",
        "     659, 79]],\n",
        "    ['33767', ['maria', 'garcia'], 33, ['clothes', 'food', 'beauty'],\n",
        "     [499, 189, 63]],\n",
        "    ['33912', ['jose', 'martinez'], 22, ['sport', 'electronics', 'home'\n",
        "     ], [259, 549, 109]],\n",
        "    ['34009', ['lisa', 'wilson'], 35, ['home', 'books', 'clothes'],\n",
        "     [329, 189, 329]],\n",
        "    ['34278', ['james', 'lee'], 28, ['beauty', 'clothes', 'electronics'\n",
        "     ], [189, 299, 579]],\n",
        "    ]\n",
        "\n",
        "# escribe tu código aquí\n",
        "for user in users:\n",
        "    user_age = user[2]\n",
        "    spendings_list = user[4]\n",
        "    total_spendings = sum(spendings_list)\n",
        "\n",
        "    if user_age < 30 and total_spendings > 1000:\n",
        "        user_name = \" \".join(user[1])\n",
        "        print(user_name)"
      ]
    },
    {
      "cell_type": "markdown",
      "metadata": {
        "id": "yRozkK0R0P90"
      },
      "source": [
        "# Ejercicio 12\n",
        "\n",
        "Ahora vamos a mostrar el nombre y la edad de todos los usuarios y todas las usuarias que han comprado ropa. Imprime el nombre y la edad en la misma declaración print."
      ]
    },
    {
      "cell_type": "code",
      "execution_count": null,
      "metadata": {
        "id": "mSIyHq1f0P90",
        "outputId": "d147296c-6b5b-4a29-e31b-89b40555fdf6"
      },
      "outputs": [
        {
          "name": "stdout",
          "output_type": "stream",
          "text": [
            "kate morgan,24\n",
            "samantha smith,29\n",
            "maria garcia,33\n",
            "lisa wilson,35\n",
            "james lee,28\n"
          ]
        }
      ],
      "source": [
        "users = [\n",
        "    ['32415', ['mike', 'reed'], 32, ['electronics', 'sport', 'books'],\n",
        "     [894, 213, 173]],\n",
        "    ['31980', ['kate', 'morgan'], 24, ['clothes', 'books'], [439,\n",
        "     390]],\n",
        "    ['32156', ['john', 'doe'], 37, ['electronics', 'home', 'food'],\n",
        "     [459, 120, 99]],\n",
        "    ['32761', ['samantha', 'smith'], 29, ['clothes', 'electronics',\n",
        "     'beauty'], [299, 679, 85]],\n",
        "    ['32984', ['david', 'white'], 41, ['books', 'home', 'sport'], [234,\n",
        "     329, 243]],\n",
        "    ['33001', ['emily', 'brown'], 26, ['beauty', 'home', 'food'], [213,\n",
        "     659, 79]],\n",
        "    ['33767', ['maria', 'garcia'], 33, ['clothes', 'food', 'beauty'],\n",
        "     [499, 189, 63]],\n",
        "    ['33912', ['jose', 'martinez'], 22, ['sport', 'electronics', 'home'\n",
        "     ], [259, 549, 109]],\n",
        "    ['34009', ['lisa', 'wilson'], 35, ['home', 'books', 'clothes'],\n",
        "     [329, 189, 329]],\n",
        "    ['34278', ['james', 'lee'], 28, ['beauty', 'clothes', 'electronics'\n",
        "     ], [189, 299, 579]],\n",
        "    ]\n",
        "\n",
        "#escribe tu código aquí\n",
        "for user in users:\n",
        "    categories = user[3]\n",
        "    if \"clothes\" in categories:\n",
        "        user_name = \" \".join(user[1])\n",
        "        user_age = user[2]\n",
        "        print(f\"{user_name},{user_age}\")"
      ]
    },
    {
      "cell_type": "markdown",
      "metadata": {
        "id": "Bq0_-hvu0P91"
      },
      "source": [
        "#Escribe aquí cualquier comentario o reflexión final"
      ]
    },
    {
      "cell_type": "markdown",
      "metadata": {
        "id": "tEJhgpbeADLI"
      },
      "source": [
        "<div class=\"alert alert-block alert-info\">\n",
        "<b>Comentario general (1ra Iteracion)</b> <a class=“tocSkip”></a>\n",
        "    \n",
        "\n",
        "Ana hiciste un buen trabajo con tu proyecto aplicando Python! Recuerda que la práctica hace al maestro y prácticar los conceptos vistos aquí e incluso profundizando en diferentes soluciones te ayudará en tus próximos proyectos. Al principio puede ser un poco complicado entender la lógica y la sintaxis en si, pero con práctica tus habilidades se irán puliendo.\n",
        "<br>\n",
        "<br>\n",
        "Los condicionales, los bucles, las listas, son elementos que verás a lo largo de tu carrera cómo Data Scientist por lo que entender cómo utilizarlos te ayudará a que avances de mejor manera en tus siguientes pasos como Data Scientist!\n",
        "<br>\n",
        "<br>\n",
        "Un saludo! 🦾\n",
        "</div>"
      ]
    }
  ],
  "metadata": {
    "ExecuteTimeLog": [
      {
        "duration": 12,
        "start_time": "2024-06-25T00:24:08.568Z"
      },
      {
        "duration": 5,
        "start_time": "2024-06-25T00:24:08.583Z"
      },
      {
        "duration": 5,
        "start_time": "2024-06-25T00:24:08.591Z"
      },
      {
        "duration": 5,
        "start_time": "2024-06-25T00:24:08.599Z"
      },
      {
        "duration": 6,
        "start_time": "2024-06-25T00:24:08.608Z"
      },
      {
        "duration": 21,
        "start_time": "2024-06-25T00:24:08.616Z"
      },
      {
        "duration": 8,
        "start_time": "2024-06-25T00:24:08.639Z"
      },
      {
        "duration": 6,
        "start_time": "2024-06-25T00:24:08.651Z"
      },
      {
        "duration": 9,
        "start_time": "2024-06-25T00:24:08.660Z"
      },
      {
        "duration": 61,
        "start_time": "2024-06-25T00:24:08.672Z"
      },
      {
        "duration": 12,
        "start_time": "2024-06-25T00:24:08.736Z"
      },
      {
        "duration": 11,
        "start_time": "2024-06-25T00:24:08.752Z"
      },
      {
        "duration": 10,
        "start_time": "2024-06-25T00:24:08.767Z"
      },
      {
        "duration": 4,
        "start_time": "2024-06-25T00:24:26.815Z"
      },
      {
        "duration": 7,
        "start_time": "2024-06-25T00:24:26.823Z"
      },
      {
        "duration": 6,
        "start_time": "2024-06-25T00:24:26.834Z"
      },
      {
        "duration": 5,
        "start_time": "2024-06-25T00:24:26.845Z"
      },
      {
        "duration": 9,
        "start_time": "2024-06-25T00:24:26.855Z"
      },
      {
        "duration": 8,
        "start_time": "2024-06-25T00:24:26.872Z"
      },
      {
        "duration": 52,
        "start_time": "2024-06-25T00:24:26.884Z"
      },
      {
        "duration": 6,
        "start_time": "2024-06-25T00:24:26.940Z"
      },
      {
        "duration": 10,
        "start_time": "2024-06-25T00:24:26.949Z"
      },
      {
        "duration": 9,
        "start_time": "2024-06-25T00:24:26.964Z"
      },
      {
        "duration": 35,
        "start_time": "2024-06-25T00:24:26.978Z"
      },
      {
        "duration": 14,
        "start_time": "2024-06-25T00:24:27.033Z"
      },
      {
        "duration": 25,
        "start_time": "2024-06-25T00:24:27.054Z"
      }
    ],
    "colab": {
      "provenance": [],
      "include_colab_link": true
    },
    "kernelspec": {
      "display_name": "Python 3 (ipykernel)",
      "language": "python",
      "name": "python3"
    },
    "language_info": {
      "codemirror_mode": {
        "name": "ipython",
        "version": 3
      },
      "file_extension": ".py",
      "mimetype": "text/x-python",
      "name": "python",
      "nbconvert_exporter": "python",
      "pygments_lexer": "ipython3",
      "version": "3.9.19"
    },
    "toc": {
      "base_numbering": 1,
      "nav_menu": {},
      "number_sections": true,
      "sideBar": true,
      "skip_h1_title": true,
      "title_cell": "Table of Contents",
      "title_sidebar": "Contents",
      "toc_cell": false,
      "toc_position": {},
      "toc_section_display": true,
      "toc_window_display": false
    }
  },
  "nbformat": 4,
  "nbformat_minor": 0
}